{
 "cells": [
  {
   "cell_type": "code",
   "execution_count": 1,
   "metadata": {},
   "outputs": [
    {
     "name": "stdout",
     "output_type": "stream",
     "text": [
      "OK!\n"
     ]
    }
   ],
   "source": [
    "print(\"OK!\")"
   ]
  },
  {
   "cell_type": "code",
   "execution_count": 2,
   "metadata": {},
   "outputs": [
    {
     "name": "stderr",
     "output_type": "stream",
     "text": [
      "c:\\Users\\ashka\\AppData\\Local\\Programs\\Python\\Python311\\Lib\\site-packages\\pinecone\\index.py:4: TqdmWarning: IProgress not found. Please update jupyter and ipywidgets. See https://ipywidgets.readthedocs.io/en/stable/user_install.html\n",
      "  from tqdm.autonotebook import tqdm\n"
     ]
    }
   ],
   "source": [
    "from langchain import PromptTemplate\n",
    "from langchain.chains import RetrievalQA\n",
    "from langchain.embeddings import HuggingFaceEmbeddings\n",
    "from langchain.vectorstores import Pinecone\n",
    "import pinecone\n",
    "from langchain.document_loaders import PyPDFLoader, DirectoryLoader\n",
    "from langchain.text_splitter import RecursiveCharacterTextSplitter\n",
    "from langchain.prompts import PromptTemplate\n",
    "from langchain.llms import CTransformers"
   ]
  },
  {
   "cell_type": "code",
   "execution_count": 3,
   "metadata": {},
   "outputs": [],
   "source": [
    "PINECONE_API_KEY = \"\"\n",
    "PINECONE_API_ENV = \"gcp-starter\""
   ]
  },
  {
   "cell_type": "code",
   "execution_count": 4,
   "metadata": {},
   "outputs": [],
   "source": [
    "#Extract data from the PDF\n",
    "def load_pdf(data):\n",
    "    loader = DirectoryLoader(data,\n",
    "                    glob=\"*.pdf\",\n",
    "                    loader_cls=PyPDFLoader)\n",
    "    \n",
    "    documents = loader.load()\n",
    "\n",
    "    return documents"
   ]
  },
  {
   "cell_type": "code",
   "execution_count": 5,
   "metadata": {},
   "outputs": [],
   "source": [
    "extracted_data = load_pdf(\"data/\")"
   ]
  },
  {
   "cell_type": "code",
   "execution_count": 6,
   "metadata": {},
   "outputs": [
    {
     "data": {
      "text/plain": [
       "[Document(page_content='Customer\\nSupport\\nChatbot\\nfor\\n\"TrustBank\"\\nSecure\\nYour\\nFinancial\\nFuture\\nwith\\nOur\\nExpert\\nInvestment\\nPortfolio\\nManagement\\nUnlock\\nthe\\npotential\\nof\\nyour\\nwealth\\nand\\nachieve\\nyour\\nfinancial\\ngoals\\nwith\\nour\\ncomprehensive\\ninvestment\\nportfolio\\nmanagement\\nservices.\\nAt\\nTrustBank,\\nwe\\nunderstand\\nthat\\nwealth\\nmanagement\\nis\\nnot\\none-size-fits-all.\\nThat\\'s\\nwhy\\nwe\\noffer\\npersonalized\\nsolutions\\ntailored\\nto\\nyour\\nindividual\\ncircumstances,\\nrisk\\ntolerance,\\nand\\nlong-term\\nfinancial\\naspirations.\\nOur\\nteam\\nof\\nexperienced\\ninvestment\\nprofessionals\\nwill\\nwork\\nclosely\\nwith\\nyou\\nto\\ndevelop\\na\\ncustomized\\ninvestment\\nportfolio\\nthat\\naligns\\nwith\\nyour\\nunique\\nneeds\\nand\\ngoals.\\nHere\\'s\\nhow\\nwe\\ncan\\nhelp\\nyou:\\nPersonalized\\nInvestment\\nPlanning:\\nInitial\\nconsultation:\\n$500\\nIn-depth\\nfinancial\\nassessment:\\n$1,000\\nDevelopment\\nof\\npersonalized\\ninvestment\\nstrategy:\\n$2,000\\nOngoing\\nportfolio\\nupdates\\nand\\nadjustments:\\n$500/quarter\\nDiversification\\nand\\nAsset\\nAllocation\\nStrategies:\\nAsset\\nClass\\nAverage\\nAnnual\\nReturn\\nRisk\\nLevel\\nMinimum\\nInvestment\\nStocks\\n8%\\nHigh\\n$5,000', metadata={'source': 'data\\\\Trustbank.pdf', 'page': 0}),\n",
       " Document(page_content='Bonds\\n5%\\nMedium\\n$5,000\\nReal\\nEstate\\n7%\\nModerate\\n$10,000\\nAlternative\\nInvestments\\n10%\\nHigh\\n$5,000\\nRisk\\nManagement\\nand\\nPortfolio\\nMonitoring:\\nPortfolio\\nmonitoring\\nand\\nperformance\\nreports:\\nFREE\\nQuarterly\\nrisk\\nanalysis\\nand\\nadjustments:\\n$250/quarter\\nAccess\\nto\\nrisk\\nmanagement\\ntools\\nand\\nstrategies:\\nINCLUDED\\nAccess\\nto\\na\\nTeam\\nof\\nInvestment\\nProfessionals:\\nDedicated\\ninvestment\\nadvisor:\\n$1,000/month\\nAccess\\nto\\nteam\\nof\\ninvestment\\nspecialists:\\nFREE\\nRegular\\nportfolio\\nreviews\\nand\\nconsultations:\\nFREE\\nInvestment\\nMinimums:\\nMinimum\\ninvestment\\namount\\nto\\nreceive\\npersonalized\\nportfolio\\nmanagement:\\n$25,000\\nFees\\nand\\nCharges:\\nFee\\nDescription\\nAnnual\\nRate\\nManageme\\nnt\\nFee\\n1%\\nof\\nassets\\nunder\\n1%', metadata={'source': 'data\\\\Trustbank.pdf', 'page': 1}),\n",
       " Document(page_content='managem\\nent\\nPerformanc\\ne\\nFee\\n20%\\nof\\nannual\\nportfolio\\ngains\\nexceeding\\n8%\\n20%\\n(if\\napplicable)\\nTransactio\\nn\\nFees\\nVariable\\ndepending\\non\\nasset\\nclass\\nand\\nbroker\\nVariable\\nAccount\\nMaintenan\\nce\\nFee\\n$25/month\\n$300/year\\nPerformance\\nHistory\\nand\\nRisk\\nDisclosures:\\nTable\\n1:\\nHistorical\\nPerformance\\nYear\\nAnnual\\nPortfolio\\nReturn\\nMaximum\\nAnnual\\nDrawdown\\n2022\\n12%\\n10%\\n2023\\n9%\\n15%', metadata={'source': 'data\\\\Trustbank.pdf', 'page': 2}),\n",
       " Document(page_content='Table\\n2:\\nRisk\\nDisclosure:\\nAsset\\nClass\\nRisk\\nLevel\\nDescription\\nStocks\\nHigh\\nPotential\\nfor\\nhigh\\nreturns\\nbut\\nalso\\nhigh\\nvolatility.\\nBonds\\nMedium\\nStable\\nincome\\nbut\\nlower\\npotential\\nfor\\ngrowth.\\nReal\\nEstate\\nModerate\\nDiversification\\nand\\ninflation\\nprotection\\nbut\\nilliquid\\ninvestments.\\nAlternative\\nInvestment\\ns\\nHigh\\nAccess\\nto\\nunique\\nopportunities\\nbut\\ncomplex\\nand\\noften\\nilliquid.\\nInvestment\\nPhilosophy\\nand\\nApproach:\\nLong-term\\nvalue\\ninvesting:\\nFocusing\\non\\nundervalued\\nassets\\nwith\\nstrong\\ngrowth\\npotential.\\nDisciplined\\nand\\nresearch-driven\\napproach:\\nAvoiding\\nshort-term\\ntrends\\nand\\nfocusing\\non\\nfundamentals.\\nRegular\\nportfolio\\nrebalancing\\nto\\nmaintain\\ndesired\\nasset\\nallocation.\\nTransparency\\nin\\nall\\ninvestment\\ndecisions\\nand\\ncommunication.\\nEmpowering\\nyou\\nto\\nachieve\\nfinancial\\nindependence\\nInvesting\\nin\\nthe\\nfuture\\ncan\\nbe\\ncomplex\\nand\\nchallenging.\\nAt\\nTrustBank,\\nwe\\nare\\ncommitted\\nto\\nmaking\\nyour\\ninvestment\\njourney\\nsmooth\\nand\\nsuccessful.\\nOur\\nexpert\\nteam\\nwill\\nbe\\nby\\nyour\\nside\\nevery\\nstep\\nof\\nthe\\nway,\\nproviding\\npersonalized\\nguidance\\nand\\nsupport\\nto\\nhelp\\nyou\\nachieve\\nyour\\nfinancial\\ngoals.', metadata={'source': 'data\\\\Trustbank.pdf', 'page': 3}),\n",
       " Document(page_content=\"Contact\\nus\\ntoday\\nto\\nschedule\\na\\nconsultation\\nand\\nlearn\\nmore\\nabout\\nour\\ninvestment\\nportfolio\\nmanagement\\nservices.\\nPlease\\nnote:\\nThese\\nnumbers\\nare\\nfor\\nillustrative\\npurposes\\nonly\\nand\\nmay\\nnot\\nbe\\nrepresentative\\nof\\nactual\\nresults.\\nPlease\\nconsult\\nwith\\na\\nfinancial\\nadvisor\\nto\\ndiscuss\\nyour\\nspecific\\nneeds\\nand\\ninvestment\\ngoals\\nUnleash\\nYour\\nFinancial\\nFreedom\\nwith\\nCredit\\nCards\\nExperience\\nthe\\nconvenience,\\nsecurity,\\nand\\nrewards\\nyou\\ndeserve\\nwith\\nour\\ndiverse\\nlineup\\nof\\ncredit\\ncards.\\nAt\\nTrustBank,\\nwe\\nunderstand\\nthat\\nyour\\nfinancial\\nneeds\\nare\\nunique,\\nthat's\\nwhy\\nwe\\noffer\\na\\nvariety\\nof\\ncredit\\ncards\\ntailored\\nto\\nyour\\nindividual\\nlifestyle\\nand\\nspending\\nhabits.\\nChoose\\nfrom\\nour\\nexciting\\ncredit\\ncard\\npackages:\\nTable\\n1:\\nCredit\\nCard\\nPackages\\nPackage\\nName\\nAnnual\\nFee\\nRewards\\nProgram\\nAPR\\nTravel\\nBenefits\\nInsurance\\nBenefits\\nEveryday\\nExplorer\\n$0\\n1\\npoint\\nper\\n$1\\nspent\\n16.99%\\nAirport\\nlounge\\naccess,\\nTravel\\ninsurance\\nPurchase\\nprotection,\\nExtended\\nwarranty\", metadata={'source': 'data\\\\Trustbank.pdf', 'page': 4}),\n",
       " Document(page_content='Cash\\nBack\\nKing\\n$49\\n2%\\ncash\\nback\\non\\ngas\\nand\\ngroceries,\\n1%\\ncash\\nback\\non\\nall\\nother\\npurchases\\n18.99%\\nNone\\nNone\\nTravel\\nVoyager\\n$99\\n2\\nmiles\\nper\\n$1\\nspent\\non\\ntravel,\\n1\\nmile\\nper\\n$1\\nspent\\non\\nall\\nother\\npurchases\\n17.99%\\nGlobal\\nairport\\nlounge\\naccess,\\nTravel\\ninsurance,\\nPriority\\nboarding\\nBaggage\\ndelay\\ninsurance,\\nTrip\\ncancellatio\\nn\\ninsurance\\nBusiness\\nAdvantage\\n$75\\n3\\npoints\\nper\\n$1\\nspent\\non\\nbusiness\\npurchases,\\n1\\npoint\\nper\\n$1\\nspent\\non\\nall\\nother\\npurchases\\n15.99%\\nNone\\nBusiness\\ntravel\\ninsurance,\\nPurchase\\nprotection', metadata={'source': 'data\\\\Trustbank.pdf', 'page': 5}),\n",
       " Document(page_content='Rewards\\nUnlimited\\n$129\\n5\\npoints\\nper\\n$1\\nspent\\non\\ndining\\nand\\nentertainm\\nent,\\n2\\npoints\\nper\\n$1\\nspent\\non\\ntravel,\\n1\\npoint\\nper\\n$1\\nspent\\non\\nall\\nother\\npurchases\\n14.99%\\nHotel\\ndiscounts,\\nCar\\nrental\\ndiscounts\\nPurchase\\nprotection,\\nExtended\\nwarranty\\nTable\\n2:\\nAdditional\\nFeatures\\nFeature\\nAvailability', metadata={'source': 'data\\\\Trustbank.pdf', 'page': 6}),\n",
       " Document(page_content=\"Contactles\\ns\\npayments\\nAll\\ncards\\nChip\\nand\\nPIN\\ntechnology\\nAll\\ncards\\nMobile\\nwallet\\ncompatibili\\nty\\nAll\\ncards\\n24/7\\ncustomer\\nsupport\\nAll\\ncards\\nOnline\\naccount\\nmanagem\\nent\\nAll\\ncards\\nTypes\\nof\\nLoans\\nand\\nTheir\\nConditions\\nUnderstanding\\nthe\\ndifferent\\ntypes\\nof\\nloans\\nand\\ntheir\\nassociated\\nconditions\\nis\\ncrucial\\nfor\\nmaking\\ninformed\\nfinancial\\ndecisions.\\nHere's\\na\\nbreakdown\\nof\\nsome\\ncommon\\nloan\\ntypes\\nand\\ntheir\\nkey\\ncharacteristics:\\n1.\\nPersonal\\nLoans:\", metadata={'source': 'data\\\\Trustbank.pdf', 'page': 7}),\n",
       " Document(page_content='Purpose:\\nPersonal\\nexpenses\\nlike\\ndebt\\nconsolidation,\\nhome\\nimprovement,\\nmedical\\nbills,\\netc.\\nAmount:\\nTypically\\nranges\\nfrom\\n$1,000\\nto\\n$50,000.\\nTerm:\\n1-7\\nyears.\\nInterest\\nRates:\\nVariable\\nor\\nfixed,\\ndepending\\non\\ncreditworthiness\\nand\\nloan\\nterms.\\nConditions:\\nGood\\ncredit\\nscore\\n(typically\\n670+),\\nstable\\nincome,\\ndebt-to-income\\nratio\\nwithin\\nacceptable\\nlimits.\\n2.\\nMortgages:\\nPurpose:\\nPurchase\\nor\\nrefinance\\na\\nresidential\\nproperty.\\nAmount:\\nUp\\nto\\nthe\\nappraised\\nvalue\\nof\\nthe\\nproperty,\\noften\\nwith\\na\\ndown\\npayment\\nrequired.\\nTerm:\\n15-30\\nyears.\\nInterest\\nRates:\\nFixed\\nor\\nadjustable,\\ndepending\\non\\nloan\\ntype.\\nConditions:\\nGood\\ncredit\\nscore\\n(typically\\n620+),\\nstable\\nemployment\\nand\\nincome,\\nsufficient\\ndown\\npayment,\\nand\\nproperty\\nmeeting\\nlender\\nrequirements.\\n3.\\nAuto\\nLoans:', metadata={'source': 'data\\\\Trustbank.pdf', 'page': 8}),\n",
       " Document(page_content='Purpose:\\nPurchase\\na\\nnew\\nor\\nused\\ncar.\\nAmount:\\nUp\\nto\\nthe\\npurchase\\nprice\\nof\\nthe\\ncar.\\nTerm:\\n2-7\\nyears.\\nInterest\\nRates:\\nVariable\\nor\\nfixed,\\ndepending\\non\\ncreditworthiness\\nand\\nloan\\nterm.\\nConditions:\\nGood\\ncredit\\nscore\\n(typically\\n660+),\\nstable\\nincome,\\nand\\nsufficient\\ndown\\npayment\\nor\\ntrade-in\\nvalue.\\n4.\\nStudent\\nLoans:\\nPurpose:\\nFinance\\nhigher\\neducation\\nexpenses.\\nAmount:\\nVaries\\ndepending\\non\\nprogram\\nand\\ncost\\nof\\nattendance.\\nTerm:\\n10-25\\nyears.\\nInterest\\nRates:\\nFixed\\nor\\nvariable,\\ndepending\\non\\nloan\\ntype.\\nConditions:\\nCompletion\\nof\\nFree\\nApplication\\nfor\\nFederal\\nStudent\\nAid\\n(FAFSA)\\nand\\nmeeting\\neligibility\\nrequirements.\\n5.\\nBusiness\\nLoans:\\nPurpose:\\nStarting\\nor\\nexpanding\\na\\nbusiness.\\nAmount:\\nVaries\\ndepending\\non\\nbusiness\\nneeds\\nand\\nqualifications.', metadata={'source': 'data\\\\Trustbank.pdf', 'page': 9}),\n",
       " Document(page_content='Term:\\nVaries\\ndepending\\non\\nloan\\ntype\\nand\\npurpose.\\nInterest\\nRates:\\nVariable\\nor\\nfixed,\\ndepending\\non\\nbusiness\\ncreditworthiness\\nand\\nloan\\nterms.\\nConditions:\\nStrong\\nbusiness\\nplan,\\nsufficient\\ncollateral,\\nand\\ngood\\npersonal\\ncredit\\nhistory\\nfor\\nbusiness\\nowners.\\nConditions\\nfor\\nLoan\\nApproval:\\nCredit\\nScore:\\nLenders\\nassess\\nyour\\ncredit\\nscore\\nto\\ngauge\\nyour\\ncreditworthiness\\nand\\ndetermine\\nyour\\neligibility\\nfor\\na\\nloan\\nand\\ninterest\\nrate.\\nIncome\\nand\\nDebt:\\nLenders\\nanalyze\\nyour\\nincome\\nand\\ndebt\\nto\\nensure\\nyou\\ncan\\nafford\\nthe\\nloan\\npayments.\\nThey\\nuse\\nthe\\ndebt-to-income\\nratio\\nto\\nassess\\nyour\\nfinancial\\nstability.\\nDown\\nPayment:\\nSome\\nloans,\\nlike\\nmortgages,\\nrequire\\na\\ndown\\npayment\\nto\\nreduce\\nthe\\nloan\\namount\\nand\\nrisk\\nfor\\nthe\\nlender.\\nCollateral:\\nFor\\nsecured\\nloans,\\ncollateral\\n(e.g.,\\nyour\\nhouse\\nor\\ncar)\\nserves\\nas\\nsecurity\\nfor\\nthe\\nlender\\nin\\ncase\\nof\\ndefault.\\nEmployment\\nHistory:\\nA\\nstable\\nemployment\\nhistory\\nand\\nsufficient\\nincome\\nare\\nessential\\nfor\\nqualifying\\nfor\\na\\nloan.\\nRemember:\\nThese\\nare\\ngeneral\\nconditions,\\nand\\nspecific\\nrequirements\\nmay\\nvary\\ndepending\\non\\nthe\\nlender,\\nloan\\ntype,\\nand\\nyour\\nindividual\\ncircumstances.\\nAlways\\nconsult\\nwith\\na\\nloan\\nofficer\\nto\\ndiscuss\\nyour\\noptions\\nand\\nunderstand\\nthe\\nspecific\\nconditions\\nfor\\nthe\\nloan\\nyou\\nseek.', metadata={'source': 'data\\\\Trustbank.pdf', 'page': 10}),\n",
       " Document(page_content='', metadata={'source': 'data\\\\Trustbank.pdf', 'page': 11})]"
      ]
     },
     "execution_count": 6,
     "metadata": {},
     "output_type": "execute_result"
    }
   ],
   "source": [
    "extracted_data"
   ]
  },
  {
   "cell_type": "code",
   "execution_count": 7,
   "metadata": {},
   "outputs": [],
   "source": [
    "#Create text chunks\n",
    "def text_split(extracted_data):\n",
    "    text_splitter = RecursiveCharacterTextSplitter(chunk_size = 500, chunk_overlap = 20)\n",
    "    text_chunks = text_splitter.split_documents(extracted_data)\n",
    "\n",
    "    return text_chunks"
   ]
  },
  {
   "cell_type": "code",
   "execution_count": 8,
   "metadata": {},
   "outputs": [
    {
     "name": "stdout",
     "output_type": "stream",
     "text": [
      "length of my chunk: 21\n"
     ]
    }
   ],
   "source": [
    "text_chunks = text_split(extracted_data)\n",
    "print(\"length of my chunk:\", len(text_chunks))"
   ]
  },
  {
   "cell_type": "code",
   "execution_count": 9,
   "metadata": {},
   "outputs": [
    {
     "data": {
      "text/plain": [
       "[Document(page_content='Customer\\nSupport\\nChatbot\\nfor\\n\"TrustBank\"\\nSecure\\nYour\\nFinancial\\nFuture\\nwith\\nOur\\nExpert\\nInvestment\\nPortfolio\\nManagement\\nUnlock\\nthe\\npotential\\nof\\nyour\\nwealth\\nand\\nachieve\\nyour\\nfinancial\\ngoals\\nwith\\nour\\ncomprehensive\\ninvestment\\nportfolio\\nmanagement\\nservices.\\nAt\\nTrustBank,\\nwe\\nunderstand\\nthat\\nwealth\\nmanagement\\nis\\nnot\\none-size-fits-all.\\nThat\\'s\\nwhy\\nwe\\noffer\\npersonalized\\nsolutions\\ntailored\\nto\\nyour\\nindividual\\ncircumstances,\\nrisk\\ntolerance,\\nand\\nlong-term\\nfinancial\\naspirations.\\nOur\\nteam\\nof\\nexperienced', metadata={'source': 'data\\\\Trustbank.pdf', 'page': 0}),\n",
       " Document(page_content=\"team\\nof\\nexperienced\\ninvestment\\nprofessionals\\nwill\\nwork\\nclosely\\nwith\\nyou\\nto\\ndevelop\\na\\ncustomized\\ninvestment\\nportfolio\\nthat\\naligns\\nwith\\nyour\\nunique\\nneeds\\nand\\ngoals.\\nHere's\\nhow\\nwe\\ncan\\nhelp\\nyou:\\nPersonalized\\nInvestment\\nPlanning:\\nInitial\\nconsultation:\\n$500\\nIn-depth\\nfinancial\\nassessment:\\n$1,000\\nDevelopment\\nof\\npersonalized\\ninvestment\\nstrategy:\\n$2,000\\nOngoing\\nportfolio\\nupdates\\nand\\nadjustments:\\n$500/quarter\\nDiversification\\nand\\nAsset\\nAllocation\\nStrategies:\\nAsset\\nClass\\nAverage\\nAnnual\\nReturn\\nRisk\\nLevel\", metadata={'source': 'data\\\\Trustbank.pdf', 'page': 0}),\n",
       " Document(page_content='Return\\nRisk\\nLevel\\nMinimum\\nInvestment\\nStocks\\n8%\\nHigh\\n$5,000', metadata={'source': 'data\\\\Trustbank.pdf', 'page': 0}),\n",
       " Document(page_content='Bonds\\n5%\\nMedium\\n$5,000\\nReal\\nEstate\\n7%\\nModerate\\n$10,000\\nAlternative\\nInvestments\\n10%\\nHigh\\n$5,000\\nRisk\\nManagement\\nand\\nPortfolio\\nMonitoring:\\nPortfolio\\nmonitoring\\nand\\nperformance\\nreports:\\nFREE\\nQuarterly\\nrisk\\nanalysis\\nand\\nadjustments:\\n$250/quarter\\nAccess\\nto\\nrisk\\nmanagement\\ntools\\nand\\nstrategies:\\nINCLUDED\\nAccess\\nto\\na\\nTeam\\nof\\nInvestment\\nProfessionals:\\nDedicated\\ninvestment\\nadvisor:\\n$1,000/month\\nAccess\\nto\\nteam\\nof\\ninvestment\\nspecialists:\\nFREE\\nRegular\\nportfolio\\nreviews\\nand\\nconsultations:\\nFREE\\nInvestment', metadata={'source': 'data\\\\Trustbank.pdf', 'page': 1}),\n",
       " Document(page_content='FREE\\nInvestment\\nMinimums:\\nMinimum\\ninvestment\\namount\\nto\\nreceive\\npersonalized\\nportfolio\\nmanagement:\\n$25,000\\nFees\\nand\\nCharges:\\nFee\\nDescription\\nAnnual\\nRate\\nManageme\\nnt\\nFee\\n1%\\nof\\nassets\\nunder\\n1%', metadata={'source': 'data\\\\Trustbank.pdf', 'page': 1}),\n",
       " Document(page_content='managem\\nent\\nPerformanc\\ne\\nFee\\n20%\\nof\\nannual\\nportfolio\\ngains\\nexceeding\\n8%\\n20%\\n(if\\napplicable)\\nTransactio\\nn\\nFees\\nVariable\\ndepending\\non\\nasset\\nclass\\nand\\nbroker\\nVariable\\nAccount\\nMaintenan\\nce\\nFee\\n$25/month\\n$300/year\\nPerformance\\nHistory\\nand\\nRisk\\nDisclosures:\\nTable\\n1:\\nHistorical\\nPerformance\\nYear\\nAnnual\\nPortfolio\\nReturn\\nMaximum\\nAnnual\\nDrawdown\\n2022\\n12%\\n10%\\n2023\\n9%\\n15%', metadata={'source': 'data\\\\Trustbank.pdf', 'page': 2}),\n",
       " Document(page_content='Table\\n2:\\nRisk\\nDisclosure:\\nAsset\\nClass\\nRisk\\nLevel\\nDescription\\nStocks\\nHigh\\nPotential\\nfor\\nhigh\\nreturns\\nbut\\nalso\\nhigh\\nvolatility.\\nBonds\\nMedium\\nStable\\nincome\\nbut\\nlower\\npotential\\nfor\\ngrowth.\\nReal\\nEstate\\nModerate\\nDiversification\\nand\\ninflation\\nprotection\\nbut\\nilliquid\\ninvestments.\\nAlternative\\nInvestment\\ns\\nHigh\\nAccess\\nto\\nunique\\nopportunities\\nbut\\ncomplex\\nand\\noften\\nilliquid.\\nInvestment\\nPhilosophy\\nand\\nApproach:\\nLong-term\\nvalue\\ninvesting:\\nFocusing\\non\\nundervalued\\nassets\\nwith\\nstrong\\ngrowth\\npotential.', metadata={'source': 'data\\\\Trustbank.pdf', 'page': 3}),\n",
       " Document(page_content='growth\\npotential.\\nDisciplined\\nand\\nresearch-driven\\napproach:\\nAvoiding\\nshort-term\\ntrends\\nand\\nfocusing\\non\\nfundamentals.\\nRegular\\nportfolio\\nrebalancing\\nto\\nmaintain\\ndesired\\nasset\\nallocation.\\nTransparency\\nin\\nall\\ninvestment\\ndecisions\\nand\\ncommunication.\\nEmpowering\\nyou\\nto\\nachieve\\nfinancial\\nindependence\\nInvesting\\nin\\nthe\\nfuture\\ncan\\nbe\\ncomplex\\nand\\nchallenging.\\nAt\\nTrustBank,\\nwe\\nare\\ncommitted\\nto\\nmaking\\nyour\\ninvestment\\njourney\\nsmooth\\nand\\nsuccessful.\\nOur\\nexpert\\nteam\\nwill\\nbe\\nby\\nyour\\nside\\nevery\\nstep\\nof\\nthe\\nway,', metadata={'source': 'data\\\\Trustbank.pdf', 'page': 3}),\n",
       " Document(page_content='step\\nof\\nthe\\nway,\\nproviding\\npersonalized\\nguidance\\nand\\nsupport\\nto\\nhelp\\nyou\\nachieve\\nyour\\nfinancial\\ngoals.', metadata={'source': 'data\\\\Trustbank.pdf', 'page': 3}),\n",
       " Document(page_content='Contact\\nus\\ntoday\\nto\\nschedule\\na\\nconsultation\\nand\\nlearn\\nmore\\nabout\\nour\\ninvestment\\nportfolio\\nmanagement\\nservices.\\nPlease\\nnote:\\nThese\\nnumbers\\nare\\nfor\\nillustrative\\npurposes\\nonly\\nand\\nmay\\nnot\\nbe\\nrepresentative\\nof\\nactual\\nresults.\\nPlease\\nconsult\\nwith\\na\\nfinancial\\nadvisor\\nto\\ndiscuss\\nyour\\nspecific\\nneeds\\nand\\ninvestment\\ngoals\\nUnleash\\nYour\\nFinancial\\nFreedom\\nwith\\nCredit\\nCards\\nExperience\\nthe\\nconvenience,\\nsecurity,\\nand\\nrewards\\nyou\\ndeserve\\nwith\\nour\\ndiverse\\nlineup\\nof\\ncredit\\ncards.\\nAt\\nTrustBank,\\nwe\\nunderstand\\nthat', metadata={'source': 'data\\\\Trustbank.pdf', 'page': 4}),\n",
       " Document(page_content=\"we\\nunderstand\\nthat\\nyour\\nfinancial\\nneeds\\nare\\nunique,\\nthat's\\nwhy\\nwe\\noffer\\na\\nvariety\\nof\\ncredit\\ncards\\ntailored\\nto\\nyour\\nindividual\\nlifestyle\\nand\\nspending\\nhabits.\\nChoose\\nfrom\\nour\\nexciting\\ncredit\\ncard\\npackages:\\nTable\\n1:\\nCredit\\nCard\\nPackages\\nPackage\\nName\\nAnnual\\nFee\\nRewards\\nProgram\\nAPR\\nTravel\\nBenefits\\nInsurance\\nBenefits\\nEveryday\\nExplorer\\n$0\\n1\\npoint\\nper\\n$1\\nspent\\n16.99%\\nAirport\\nlounge\\naccess,\\nTravel\\ninsurance\\nPurchase\\nprotection,\\nExtended\\nwarranty\", metadata={'source': 'data\\\\Trustbank.pdf', 'page': 4}),\n",
       " Document(page_content='Cash\\nBack\\nKing\\n$49\\n2%\\ncash\\nback\\non\\ngas\\nand\\ngroceries,\\n1%\\ncash\\nback\\non\\nall\\nother\\npurchases\\n18.99%\\nNone\\nNone\\nTravel\\nVoyager\\n$99\\n2\\nmiles\\nper\\n$1\\nspent\\non\\ntravel,\\n1\\nmile\\nper\\n$1\\nspent\\non\\nall\\nother\\npurchases\\n17.99%\\nGlobal\\nairport\\nlounge\\naccess,\\nTravel\\ninsurance,\\nPriority\\nboarding\\nBaggage\\ndelay\\ninsurance,\\nTrip\\ncancellatio\\nn\\ninsurance\\nBusiness\\nAdvantage\\n$75\\n3\\npoints\\nper\\n$1\\nspent\\non\\nbusiness\\npurchases,\\n1\\npoint\\nper\\n$1\\nspent\\non\\nall\\nother\\npurchases\\n15.99%\\nNone\\nBusiness\\ntravel\\ninsurance,\\nPurchase\\nprotection', metadata={'source': 'data\\\\Trustbank.pdf', 'page': 5}),\n",
       " Document(page_content='Rewards\\nUnlimited\\n$129\\n5\\npoints\\nper\\n$1\\nspent\\non\\ndining\\nand\\nentertainm\\nent,\\n2\\npoints\\nper\\n$1\\nspent\\non\\ntravel,\\n1\\npoint\\nper\\n$1\\nspent\\non\\nall\\nother\\npurchases\\n14.99%\\nHotel\\ndiscounts,\\nCar\\nrental\\ndiscounts\\nPurchase\\nprotection,\\nExtended\\nwarranty\\nTable\\n2:\\nAdditional\\nFeatures\\nFeature\\nAvailability', metadata={'source': 'data\\\\Trustbank.pdf', 'page': 6}),\n",
       " Document(page_content=\"Contactles\\ns\\npayments\\nAll\\ncards\\nChip\\nand\\nPIN\\ntechnology\\nAll\\ncards\\nMobile\\nwallet\\ncompatibili\\nty\\nAll\\ncards\\n24/7\\ncustomer\\nsupport\\nAll\\ncards\\nOnline\\naccount\\nmanagem\\nent\\nAll\\ncards\\nTypes\\nof\\nLoans\\nand\\nTheir\\nConditions\\nUnderstanding\\nthe\\ndifferent\\ntypes\\nof\\nloans\\nand\\ntheir\\nassociated\\nconditions\\nis\\ncrucial\\nfor\\nmaking\\ninformed\\nfinancial\\ndecisions.\\nHere's\\na\\nbreakdown\\nof\\nsome\\ncommon\\nloan\\ntypes\\nand\\ntheir\\nkey\\ncharacteristics:\\n1.\\nPersonal\\nLoans:\", metadata={'source': 'data\\\\Trustbank.pdf', 'page': 7}),\n",
       " Document(page_content='Purpose:\\nPersonal\\nexpenses\\nlike\\ndebt\\nconsolidation,\\nhome\\nimprovement,\\nmedical\\nbills,\\netc.\\nAmount:\\nTypically\\nranges\\nfrom\\n$1,000\\nto\\n$50,000.\\nTerm:\\n1-7\\nyears.\\nInterest\\nRates:\\nVariable\\nor\\nfixed,\\ndepending\\non\\ncreditworthiness\\nand\\nloan\\nterms.\\nConditions:\\nGood\\ncredit\\nscore\\n(typically\\n670+),\\nstable\\nincome,\\ndebt-to-income\\nratio\\nwithin\\nacceptable\\nlimits.\\n2.\\nMortgages:\\nPurpose:\\nPurchase\\nor\\nrefinance\\na\\nresidential\\nproperty.\\nAmount:\\nUp\\nto\\nthe\\nappraised\\nvalue\\nof\\nthe\\nproperty,\\noften\\nwith\\na\\ndown\\npayment', metadata={'source': 'data\\\\Trustbank.pdf', 'page': 8}),\n",
       " Document(page_content='with\\na\\ndown\\npayment\\nrequired.\\nTerm:\\n15-30\\nyears.\\nInterest\\nRates:\\nFixed\\nor\\nadjustable,\\ndepending\\non\\nloan\\ntype.\\nConditions:\\nGood\\ncredit\\nscore\\n(typically\\n620+),\\nstable\\nemployment\\nand\\nincome,\\nsufficient\\ndown\\npayment,\\nand\\nproperty\\nmeeting\\nlender\\nrequirements.\\n3.\\nAuto\\nLoans:', metadata={'source': 'data\\\\Trustbank.pdf', 'page': 8}),\n",
       " Document(page_content='Purpose:\\nPurchase\\na\\nnew\\nor\\nused\\ncar.\\nAmount:\\nUp\\nto\\nthe\\npurchase\\nprice\\nof\\nthe\\ncar.\\nTerm:\\n2-7\\nyears.\\nInterest\\nRates:\\nVariable\\nor\\nfixed,\\ndepending\\non\\ncreditworthiness\\nand\\nloan\\nterm.\\nConditions:\\nGood\\ncredit\\nscore\\n(typically\\n660+),\\nstable\\nincome,\\nand\\nsufficient\\ndown\\npayment\\nor\\ntrade-in\\nvalue.\\n4.\\nStudent\\nLoans:\\nPurpose:\\nFinance\\nhigher\\neducation\\nexpenses.\\nAmount:\\nVaries\\ndepending\\non\\nprogram\\nand\\ncost\\nof\\nattendance.\\nTerm:\\n10-25\\nyears.\\nInterest\\nRates:\\nFixed\\nor\\nvariable,\\ndepending\\non\\nloan\\ntype.\\nConditions:', metadata={'source': 'data\\\\Trustbank.pdf', 'page': 9}),\n",
       " Document(page_content='type.\\nConditions:\\nCompletion\\nof\\nFree\\nApplication\\nfor\\nFederal\\nStudent\\nAid\\n(FAFSA)\\nand\\nmeeting\\neligibility\\nrequirements.\\n5.\\nBusiness\\nLoans:\\nPurpose:\\nStarting\\nor\\nexpanding\\na\\nbusiness.\\nAmount:\\nVaries\\ndepending\\non\\nbusiness\\nneeds\\nand\\nqualifications.', metadata={'source': 'data\\\\Trustbank.pdf', 'page': 9}),\n",
       " Document(page_content='Term:\\nVaries\\ndepending\\non\\nloan\\ntype\\nand\\npurpose.\\nInterest\\nRates:\\nVariable\\nor\\nfixed,\\ndepending\\non\\nbusiness\\ncreditworthiness\\nand\\nloan\\nterms.\\nConditions:\\nStrong\\nbusiness\\nplan,\\nsufficient\\ncollateral,\\nand\\ngood\\npersonal\\ncredit\\nhistory\\nfor\\nbusiness\\nowners.\\nConditions\\nfor\\nLoan\\nApproval:\\nCredit\\nScore:\\nLenders\\nassess\\nyour\\ncredit\\nscore\\nto\\ngauge\\nyour\\ncreditworthiness\\nand\\ndetermine\\nyour\\neligibility\\nfor\\na\\nloan\\nand\\ninterest\\nrate.\\nIncome\\nand\\nDebt:\\nLenders\\nanalyze\\nyour\\nincome\\nand\\ndebt\\nto\\nensure\\nyou\\ncan\\nafford', metadata={'source': 'data\\\\Trustbank.pdf', 'page': 10}),\n",
       " Document(page_content='you\\ncan\\nafford\\nthe\\nloan\\npayments.\\nThey\\nuse\\nthe\\ndebt-to-income\\nratio\\nto\\nassess\\nyour\\nfinancial\\nstability.\\nDown\\nPayment:\\nSome\\nloans,\\nlike\\nmortgages,\\nrequire\\na\\ndown\\npayment\\nto\\nreduce\\nthe\\nloan\\namount\\nand\\nrisk\\nfor\\nthe\\nlender.\\nCollateral:\\nFor\\nsecured\\nloans,\\ncollateral\\n(e.g.,\\nyour\\nhouse\\nor\\ncar)\\nserves\\nas\\nsecurity\\nfor\\nthe\\nlender\\nin\\ncase\\nof\\ndefault.\\nEmployment\\nHistory:\\nA\\nstable\\nemployment\\nhistory\\nand\\nsufficient\\nincome\\nare\\nessential\\nfor\\nqualifying\\nfor\\na\\nloan.\\nRemember:\\nThese\\nare\\ngeneral\\nconditions,\\nand', metadata={'source': 'data\\\\Trustbank.pdf', 'page': 10}),\n",
       " Document(page_content='conditions,\\nand\\nspecific\\nrequirements\\nmay\\nvary\\ndepending\\non\\nthe\\nlender,\\nloan\\ntype,\\nand\\nyour\\nindividual\\ncircumstances.\\nAlways\\nconsult\\nwith\\na\\nloan\\nofficer\\nto\\ndiscuss\\nyour\\noptions\\nand\\nunderstand\\nthe\\nspecific\\nconditions\\nfor\\nthe\\nloan\\nyou\\nseek.', metadata={'source': 'data\\\\Trustbank.pdf', 'page': 10})]"
      ]
     },
     "execution_count": 9,
     "metadata": {},
     "output_type": "execute_result"
    }
   ],
   "source": [
    "text_chunks"
   ]
  },
  {
   "cell_type": "code",
   "execution_count": 10,
   "metadata": {},
   "outputs": [],
   "source": [
    "# download embedding model\n",
    "\n",
    "def download_hugging_face_embeddings():\n",
    "    embeddings = HuggingFaceEmbeddings(model_name=\"sentence-transformers/all-MiniLM-L6-v2\")\n",
    "    return embeddings"
   ]
  },
  {
   "cell_type": "code",
   "execution_count": 11,
   "metadata": {},
   "outputs": [],
   "source": [
    "embeddings = download_hugging_face_embeddings()"
   ]
  },
  {
   "cell_type": "code",
   "execution_count": 12,
   "metadata": {},
   "outputs": [
    {
     "data": {
      "text/plain": [
       "HuggingFaceEmbeddings(client=SentenceTransformer(\n",
       "  (0): Transformer({'max_seq_length': 256, 'do_lower_case': False}) with Transformer model: BertModel \n",
       "  (1): Pooling({'word_embedding_dimension': 384, 'pooling_mode_cls_token': False, 'pooling_mode_mean_tokens': True, 'pooling_mode_max_tokens': False, 'pooling_mode_mean_sqrt_len_tokens': False})\n",
       "  (2): Normalize()\n",
       "), model_name='sentence-transformers/all-MiniLM-L6-v2', cache_folder=None, model_kwargs={}, encode_kwargs={})"
      ]
     },
     "execution_count": 12,
     "metadata": {},
     "output_type": "execute_result"
    }
   ],
   "source": [
    "embeddings"
   ]
  },
  {
   "cell_type": "code",
   "execution_count": 13,
   "metadata": {},
   "outputs": [
    {
     "name": "stdout",
     "output_type": "stream",
     "text": [
      "Length 384\n"
     ]
    }
   ],
   "source": [
    "query_result = embeddings.embed_query(\"Hello world\")\n",
    "print(\"Length\", len(query_result))"
   ]
  },
  {
   "cell_type": "code",
   "execution_count": 14,
   "metadata": {},
   "outputs": [
    {
     "data": {
      "text/plain": [
       "[-0.034477222710847855,\n",
       " 0.031023185700178146,\n",
       " 0.006734990049153566,\n",
       " 0.026108937337994576,\n",
       " -0.03936203941702843,\n",
       " -0.16030247509479523,\n",
       " 0.06692399084568024,\n",
       " -0.0064415158703923225,\n",
       " -0.04745062440633774,\n",
       " 0.014758840203285217,\n",
       " 0.07087533175945282,\n",
       " 0.05552753433585167,\n",
       " 0.01919342391192913,\n",
       " -0.026251353323459625,\n",
       " -0.010109438560903072,\n",
       " -0.02694055624306202,\n",
       " 0.02230747416615486,\n",
       " -0.022226637229323387,\n",
       " -0.14969265460968018,\n",
       " -0.01749308779835701,\n",
       " 0.007676266133785248,\n",
       " 0.05435233190655708,\n",
       " 0.003254504408687353,\n",
       " 0.03172597661614418,\n",
       " -0.0846213847398758,\n",
       " -0.0294059868901968,\n",
       " 0.051595672965049744,\n",
       " 0.0481240376830101,\n",
       " -0.0033147623762488365,\n",
       " -0.05827918276190758,\n",
       " 0.041969288140535355,\n",
       " 0.02221066877245903,\n",
       " 0.12818889319896698,\n",
       " -0.022338978946208954,\n",
       " -0.011656207032501698,\n",
       " 0.06292837858200073,\n",
       " -0.032876212149858475,\n",
       " -0.09122608602046967,\n",
       " -0.031175455078482628,\n",
       " 0.05269963666796684,\n",
       " 0.04703482985496521,\n",
       " -0.08420305699110031,\n",
       " -0.03005620278418064,\n",
       " -0.020744772627949715,\n",
       " 0.009517728351056576,\n",
       " -0.0037217827048152685,\n",
       " 0.007343264762312174,\n",
       " 0.0393243171274662,\n",
       " 0.0932740867137909,\n",
       " -0.003788622561842203,\n",
       " -0.052742090076208115,\n",
       " -0.058058127760887146,\n",
       " -0.006864421535283327,\n",
       " 0.005283227656036615,\n",
       " 0.08289297670125961,\n",
       " 0.01936275325715542,\n",
       " 0.0062845018692314625,\n",
       " -0.010330776683986187,\n",
       " 0.009032372385263443,\n",
       " -0.03768373653292656,\n",
       " -0.04520611837506294,\n",
       " 0.02401633933186531,\n",
       " -0.0069442084059119225,\n",
       " 0.013491607271134853,\n",
       " 0.10005496442317963,\n",
       " -0.07168387621641159,\n",
       " -0.021695062518119812,\n",
       " 0.03161846473813057,\n",
       " -0.05163467675447464,\n",
       " -0.08224771916866302,\n",
       " -0.06569330394268036,\n",
       " -0.009895337745547295,\n",
       " 0.005816419143229723,\n",
       " 0.07355456799268723,\n",
       " -0.0340503565967083,\n",
       " 0.024886099621653557,\n",
       " 0.014488033950328827,\n",
       " 0.026457376778125763,\n",
       " 0.00965673103928566,\n",
       " 0.030217286199331284,\n",
       " 0.052803974598646164,\n",
       " -0.07535986602306366,\n",
       " 0.009897214360535145,\n",
       " 0.02983679808676243,\n",
       " 0.01755557954311371,\n",
       " 0.023091960698366165,\n",
       " 0.001933908206410706,\n",
       " 0.0014001321978867054,\n",
       " -0.04717595875263214,\n",
       " -0.011194348335266113,\n",
       " -0.11420144140720367,\n",
       " -0.019812004640698433,\n",
       " 0.04026626795530319,\n",
       " 0.0021929617505520582,\n",
       " -0.07979221642017365,\n",
       " -0.025382284075021744,\n",
       " 0.09448294341564178,\n",
       " -0.028981119394302368,\n",
       " -0.1450025737285614,\n",
       " 0.23097746074199677,\n",
       " 0.027731148526072502,\n",
       " 0.03211142122745514,\n",
       " 0.031064976006746292,\n",
       " 0.04283281788229942,\n",
       " 0.06423784047365189,\n",
       " 0.03216315060853958,\n",
       " -0.00487672770395875,\n",
       " 0.0556994192302227,\n",
       " -0.03753242269158363,\n",
       " -0.02150564081966877,\n",
       " -0.028342679142951965,\n",
       " -0.028846941888332367,\n",
       " 0.03835311159491539,\n",
       " -0.017468692734837532,\n",
       " 0.0524853877723217,\n",
       " -0.07487604767084122,\n",
       " -0.031259749084711075,\n",
       " 0.02184150367975235,\n",
       " -0.03989564627408981,\n",
       " -0.008587144315242767,\n",
       " 0.026956653222441673,\n",
       " -0.048495519906282425,\n",
       " 0.011469962075352669,\n",
       " 0.02961825393140316,\n",
       " -0.020572150126099586,\n",
       " 0.013103924691677094,\n",
       " 0.028833428397774696,\n",
       " -3.1941979827962646e-33,\n",
       " 0.06478200852870941,\n",
       " -0.018130142241716385,\n",
       " 0.05178995802998543,\n",
       " 0.12198275327682495,\n",
       " 0.02878015674650669,\n",
       " 0.008722011931240559,\n",
       " -0.07052110880613327,\n",
       " -0.01690725050866604,\n",
       " 0.040739741176366806,\n",
       " 0.042116228491067886,\n",
       " 0.025447240099310875,\n",
       " 0.03574617952108383,\n",
       " -0.04914475977420807,\n",
       " 0.0021290830336511135,\n",
       " -0.015546604990959167,\n",
       " 0.05073058232665062,\n",
       " -0.048185233026742935,\n",
       " 0.03588063642382622,\n",
       " -0.004067109897732735,\n",
       " 0.10172479599714279,\n",
       " -0.05597001314163208,\n",
       " -0.01068094652146101,\n",
       " 0.011235823854804039,\n",
       " 0.09068650752305984,\n",
       " 0.004234442487359047,\n",
       " 0.035138651728630066,\n",
       " -0.009702847339212894,\n",
       " -0.09386519342660904,\n",
       " 0.0928555279970169,\n",
       " 0.008004930801689625,\n",
       " -0.00770533038303256,\n",
       " -0.05208669230341911,\n",
       " -0.012587969191372395,\n",
       " 0.0032669079955667257,\n",
       " 0.006013574078679085,\n",
       " 0.007581567391753197,\n",
       " 0.010517159476876259,\n",
       " -0.08634556829929352,\n",
       " -0.06987874209880829,\n",
       " -0.002533880528062582,\n",
       " -0.09097661823034286,\n",
       " 0.04688735678792,\n",
       " 0.05207645148038864,\n",
       " 0.0071938857436180115,\n",
       " 0.010903597809374332,\n",
       " -0.005229489877820015,\n",
       " 0.01393735408782959,\n",
       " 0.02196832373738289,\n",
       " 0.03420862555503845,\n",
       " 0.06022472679615021,\n",
       " 0.00011662607721518725,\n",
       " 0.014731956645846367,\n",
       " -0.0700891986489296,\n",
       " 0.028499063104391098,\n",
       " -0.0276017002761364,\n",
       " 0.010768339037895203,\n",
       " 0.03483094647526741,\n",
       " -0.022487908601760864,\n",
       " 0.009769047610461712,\n",
       " 0.07722772657871246,\n",
       " 0.021588319912552834,\n",
       " 0.11495615541934967,\n",
       " -0.06800113618373871,\n",
       " 0.023760993033647537,\n",
       " -0.01598385162651539,\n",
       " -0.017826981842517853,\n",
       " 0.06439492851495743,\n",
       " 0.03202573582530022,\n",
       " 0.0502702072262764,\n",
       " -0.005913685541599989,\n",
       " -0.033708006143569946,\n",
       " 0.017840268090367317,\n",
       " 0.016573423519730568,\n",
       " 0.06329648941755295,\n",
       " 0.03467718884348869,\n",
       " 0.04647349193692207,\n",
       " 0.097906194627285,\n",
       " -0.006635510362684727,\n",
       " 0.025207100436091423,\n",
       " -0.07798831909894943,\n",
       " 0.016926350072026253,\n",
       " -0.000945738865993917,\n",
       " 0.022471850737929344,\n",
       " -0.038253217935562134,\n",
       " 0.09570478647947311,\n",
       " -0.005350786726921797,\n",
       " 0.010469001717865467,\n",
       " -0.11524051427841187,\n",
       " -0.013262550346553326,\n",
       " -0.010709332302212715,\n",
       " -0.08311723917722702,\n",
       " 0.07327350974082947,\n",
       " 0.049392204731702805,\n",
       " -0.00899440236389637,\n",
       " -0.09584558010101318,\n",
       " 3.366147459724626e-33,\n",
       " 0.12493185698986053,\n",
       " 0.019349724054336548,\n",
       " -0.058225758373737335,\n",
       " -0.03598823398351669,\n",
       " -0.05074673518538475,\n",
       " -0.045662324875593185,\n",
       " -0.08260340243577957,\n",
       " 0.14819473028182983,\n",
       " -0.08842113614082336,\n",
       " 0.060274410992860794,\n",
       " 0.0510302409529686,\n",
       " 0.010303158313035965,\n",
       " 0.1412142515182495,\n",
       " 0.030813900753855705,\n",
       " 0.06103303283452988,\n",
       " -0.052851300686597824,\n",
       " 0.13664884865283966,\n",
       " 0.009189898148179054,\n",
       " -0.017325256019830704,\n",
       " -0.012848656624555588,\n",
       " -0.007995289750397205,\n",
       " -0.05098007991909981,\n",
       " -0.05235065147280693,\n",
       " 0.007593046873807907,\n",
       " -0.015166248194873333,\n",
       " 0.016960302367806435,\n",
       " 0.021270515397191048,\n",
       " 0.02055802009999752,\n",
       " -0.1200280711054802,\n",
       " 0.014461817219853401,\n",
       " 0.026759888976812363,\n",
       " 0.025330616161227226,\n",
       " -0.04275461286306381,\n",
       " 0.006768496707081795,\n",
       " -0.014458601363003254,\n",
       " 0.04526200890541077,\n",
       " -0.09147648513317108,\n",
       " -0.01943919062614441,\n",
       " -0.017833421006798744,\n",
       " -0.05491018667817116,\n",
       " -0.052641112357378006,\n",
       " -0.010459023527801037,\n",
       " -0.05201605334877968,\n",
       " 0.020892081782221794,\n",
       " -0.0799703299999237,\n",
       " -0.012111242860555649,\n",
       " -0.05773142725229263,\n",
       " 0.023178234696388245,\n",
       " -0.008031686767935753,\n",
       " -0.025989308953285217,\n",
       " -0.07995668798685074,\n",
       " -0.020728858187794685,\n",
       " 0.04881775379180908,\n",
       " -0.02038923278450966,\n",
       " -0.04917661473155022,\n",
       " 0.014159676618874073,\n",
       " -0.06362207233905792,\n",
       " -0.007807400543242693,\n",
       " 0.016431527212262154,\n",
       " -0.025682521983981133,\n",
       " 0.013381021097302437,\n",
       " 0.026248762384057045,\n",
       " 0.009978377260267735,\n",
       " 0.06322880834341049,\n",
       " 0.0026720764581114054,\n",
       " -0.006582777481526136,\n",
       " 0.016632014885544777,\n",
       " 0.03236645087599754,\n",
       " 0.037942517548799515,\n",
       " -0.03637605905532837,\n",
       " -0.0069109369069337845,\n",
       " 0.0001597253285581246,\n",
       " -0.00163353665266186,\n",
       " -0.027278203517198563,\n",
       " -0.02803807333111763,\n",
       " 0.04968154802918434,\n",
       " -0.028867168352007866,\n",
       " -0.002418024931102991,\n",
       " 0.014774865470826626,\n",
       " 0.009764513000845909,\n",
       " 0.005797536112368107,\n",
       " 0.013486066833138466,\n",
       " 0.005567848216742277,\n",
       " 0.037226974964141846,\n",
       " 0.007232497911900282,\n",
       " 0.04015626385807991,\n",
       " 0.08150319755077362,\n",
       " 0.07199164479970932,\n",
       " -0.01305615995079279,\n",
       " -0.04288201034069061,\n",
       " -0.011011261492967606,\n",
       " 0.004897837992757559,\n",
       " -0.009229741059243679,\n",
       " 0.03519145026803017,\n",
       " -0.051035016775131226,\n",
       " -1.571437557856825e-08,\n",
       " -0.08862442523241043,\n",
       " 0.023909350857138634,\n",
       " -0.016238775104284286,\n",
       " 0.03170041739940643,\n",
       " 0.027284175157546997,\n",
       " 0.05246876925230026,\n",
       " -0.0470709428191185,\n",
       " -0.058847445994615555,\n",
       " -0.06320823729038239,\n",
       " 0.04088854789733887,\n",
       " 0.049827974289655685,\n",
       " 0.1065516322851181,\n",
       " -0.0745023563504219,\n",
       " -0.012495479546487331,\n",
       " 0.018370680510997772,\n",
       " 0.03947404399514198,\n",
       " -0.024797866120934486,\n",
       " 0.014516271650791168,\n",
       " -0.03706924989819527,\n",
       " 0.020015763118863106,\n",
       " -4.85764212498907e-05,\n",
       " 0.00986657664179802,\n",
       " 0.02483879216015339,\n",
       " -0.05245806649327278,\n",
       " 0.02931417152285576,\n",
       " -0.08719194680452347,\n",
       " -0.014499794691801071,\n",
       " 0.026019006967544556,\n",
       " -0.018746396526694298,\n",
       " -0.07620514184236526,\n",
       " 0.03504331409931183,\n",
       " 0.10363946110010147,\n",
       " -0.028050554916262627,\n",
       " 0.012718244455754757,\n",
       " -0.0763254389166832,\n",
       " -0.018652383238077164,\n",
       " 0.024976637214422226,\n",
       " 0.0814453586935997,\n",
       " 0.06875889003276825,\n",
       " -0.0640566423535347,\n",
       " -0.08389386534690857,\n",
       " 0.0613623708486557,\n",
       " -0.03354555740952492,\n",
       " -0.10615336149930954,\n",
       " -0.04008050262928009,\n",
       " 0.032530222088098526,\n",
       " 0.07662484049797058,\n",
       " -0.07301614433526993,\n",
       " 0.00033753702882677317,\n",
       " -0.040871649980545044,\n",
       " -0.07578849792480469,\n",
       " 0.027527665719389915,\n",
       " 0.0746254250407219,\n",
       " 0.017717311158776283,\n",
       " 0.09121838212013245,\n",
       " 0.11022020876407623,\n",
       " 0.0005698010791093111,\n",
       " 0.05146330967545509,\n",
       " -0.014551293104887009,\n",
       " 0.033232059329748154,\n",
       " 0.02379222959280014,\n",
       " -0.022889796644449234,\n",
       " 0.0389375239610672,\n",
       " 0.03020678646862507]"
      ]
     },
     "execution_count": 14,
     "metadata": {},
     "output_type": "execute_result"
    }
   ],
   "source": [
    "\n",
    "query_result"
   ]
  },
  {
   "cell_type": "code",
   "execution_count": 15,
   "metadata": {},
   "outputs": [],
   "source": [
    "#Initializing the Pinecone\n",
    "pinecone.init(api_key=PINECONE_API_KEY,\n",
    "              environment=PINECONE_API_ENV)\n",
    "\n",
    "index_name=\"trustbank-customer-support-chatbot\"\n",
    "\n",
    "#Creating Embeddings for Each of The Text Chunks & storing\n",
    "docsearch=Pinecone.from_texts([t.page_content for t in text_chunks], embeddings, index_name=index_name)"
   ]
  },
  {
   "cell_type": "code",
   "execution_count": 16,
   "metadata": {},
   "outputs": [
    {
     "name": "stdout",
     "output_type": "stream",
     "text": [
      "Result [Document(page_content=\"Contactles\\ns\\npayments\\nAll\\ncards\\nChip\\nand\\nPIN\\ntechnology\\nAll\\ncards\\nMobile\\nwallet\\ncompatibili\\nty\\nAll\\ncards\\n24/7\\ncustomer\\nsupport\\nAll\\ncards\\nOnline\\naccount\\nmanagem\\nent\\nAll\\ncards\\nTypes\\nof\\nLoans\\nand\\nTheir\\nConditions\\nUnderstanding\\nthe\\ndifferent\\ntypes\\nof\\nloans\\nand\\ntheir\\nassociated\\nconditions\\nis\\ncrucial\\nfor\\nmaking\\ninformed\\nfinancial\\ndecisions.\\nHere's\\na\\nbreakdown\\nof\\nsome\\ncommon\\nloan\\ntypes\\nand\\ntheir\\nkey\\ncharacteristics:\\n1.\\nPersonal\\nLoans:\", metadata={}), Document(page_content='you\\ncan\\nafford\\nthe\\nloan\\npayments.\\nThey\\nuse\\nthe\\ndebt-to-income\\nratio\\nto\\nassess\\nyour\\nfinancial\\nstability.\\nDown\\nPayment:\\nSome\\nloans,\\nlike\\nmortgages,\\nrequire\\na\\ndown\\npayment\\nto\\nreduce\\nthe\\nloan\\namount\\nand\\nrisk\\nfor\\nthe\\nlender.\\nCollateral:\\nFor\\nsecured\\nloans,\\ncollateral\\n(e.g.,\\nyour\\nhouse\\nor\\ncar)\\nserves\\nas\\nsecurity\\nfor\\nthe\\nlender\\nin\\ncase\\nof\\ndefault.\\nEmployment\\nHistory:\\nA\\nstable\\nemployment\\nhistory\\nand\\nsufficient\\nincome\\nare\\nessential\\nfor\\nqualifying\\nfor\\na\\nloan.\\nRemember:\\nThese\\nare\\ngeneral\\nconditions,\\nand', metadata={}), Document(page_content='conditions,\\nand\\nspecific\\nrequirements\\nmay\\nvary\\ndepending\\non\\nthe\\nlender,\\nloan\\ntype,\\nand\\nyour\\nindividual\\ncircumstances.\\nAlways\\nconsult\\nwith\\na\\nloan\\nofficer\\nto\\ndiscuss\\nyour\\noptions\\nand\\nunderstand\\nthe\\nspecific\\nconditions\\nfor\\nthe\\nloan\\nyou\\nseek.', metadata={})]\n"
     ]
    }
   ],
   "source": [
    "#If we already have an index we can load it like this\n",
    "docsearch=Pinecone.from_existing_index(index_name, embeddings)\n",
    "\n",
    "query = \"what is a Personal loan\"\n",
    "\n",
    "docs=docsearch.similarity_search(query, k=3)\n",
    "\n",
    "print(\"Result\", docs)\n"
   ]
  },
  {
   "cell_type": "code",
   "execution_count": 17,
   "metadata": {},
   "outputs": [],
   "source": [
    "prompt_template=\"\"\"\n",
    "Use the following pieces of information to answer the user's question.\n",
    "If you don't know the answer, just say that you don't know, don't try to make up an answer.\n",
    "\n",
    "Context: {context}\n",
    "Question: {question}\n",
    "\n",
    "Only return the helpful answer below and nothing else.\n",
    "Helpful answer:\n",
    "\"\"\""
   ]
  },
  {
   "cell_type": "code",
   "execution_count": 18,
   "metadata": {},
   "outputs": [],
   "source": [
    "PROMPT=PromptTemplate(template=prompt_template, input_variables=[\"context\", \"question\"])\n",
    "chain_type_kwargs={\"prompt\": PROMPT}"
   ]
  },
  {
   "cell_type": "code",
   "execution_count": 19,
   "metadata": {},
   "outputs": [],
   "source": [
    "llm=CTransformers(model=\"Model/llama-2-7b-chat.ggmlv3.q4_0.bin\",\n",
    "                  model_type=\"llama\",\n",
    "                  config={'max_new_tokens':512,\n",
    "                          'temperature':0.8})"
   ]
  },
  {
   "cell_type": "code",
   "execution_count": 20,
   "metadata": {},
   "outputs": [],
   "source": [
    "qa=RetrievalQA.from_chain_type(\n",
    "    llm=llm, \n",
    "    chain_type=\"stuff\", \n",
    "    retriever=docsearch.as_retriever(search_kwargs={'k': 2}),\n",
    "    return_source_documents=True, \n",
    "    chain_type_kwargs=chain_type_kwargs)\n"
   ]
  },
  {
   "cell_type": "code",
   "execution_count": 21,
   "metadata": {},
   "outputs": [
    {
     "name": "stdout",
     "output_type": "stream",
     "text": [
      "Response :  Personalized Investment Planning (PIP) is a service offered by experienced investment professionals that involves developing a customized investment portfolio tailored to an individual's unique needs and goals. PIP typically includes a comprehensive financial assessment, development of a personalized investment strategy, ongoing portfolio updates and adjustments, and diversification and asset allocation strategies. The goal of PIP is to help individuals achieve their financial objectives through personalized guidance and support.\n"
     ]
    }
   ],
   "source": [
    "while True:\n",
    "    user_input=input(f\"Input Prompt:\")\n",
    "    result=qa({\"query\": user_input})\n",
    "    print(\"Response : \", result[\"result\"])"
   ]
  },
  {
   "cell_type": "code",
   "execution_count": null,
   "metadata": {},
   "outputs": [],
   "source": []
  }
 ],
 "metadata": {
  "kernelspec": {
   "display_name": "Python 3",
   "language": "python",
   "name": "python3"
  },
  "language_info": {
   "codemirror_mode": {
    "name": "ipython",
    "version": 3
   },
   "file_extension": ".py",
   "mimetype": "text/x-python",
   "name": "python",
   "nbconvert_exporter": "python",
   "pygments_lexer": "ipython3",
   "version": "3.11.7"
  }
 },
 "nbformat": 4,
 "nbformat_minor": 2
}
